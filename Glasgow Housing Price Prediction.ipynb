{
 "cells": [
  {
   "cell_type": "code",
   "execution_count": 13,
   "metadata": {},
   "outputs": [],
   "source": [
    "%matplotlib inline\n",
    "from pathlib import Path\n",
    "import os\n",
    "import sys\n",
    "import pandas as pd\n",
    "import numpy as np\n",
    "import matplotlib\n",
    "import matplotlib.pyplot as plt\n",
    "from matplotlib.backends.backend_pdf import PdfPages\n",
    "import matplotlib.patches as mpatches\n",
    "import sklearn\n",
    "import seaborn as sns\n",
    "import geopandas as gpd\n",
    "import scipy\n",
    "from scipy.cluster.hierarchy import dendrogram, linkage\n",
    "\n",
    "from sklearn import datasets, cluster, metrics\n",
    "from sklearn.decomposition import PCA\n",
    "from sklearn.linear_model import LinearRegression\n",
    "from sklearn.preprocessing import scale, StandardScaler, LabelEncoder"
   ]
  },
  {
   "cell_type": "code",
   "execution_count": 14,
   "metadata": {},
   "outputs": [
    {
     "name": "stdout",
     "output_type": "stream",
     "text": [
      "Python: 3.7.0\n",
      "Pandas: 0.23.4\n",
      "Numpy: 1.15.3\n",
      "Matplotlib: 3.0.1\n",
      "Scikit-learn: 0.20.0\n",
      "Seaborn: 1.1.0\n",
      "GeoPandas: 0.3.0\n",
      "SciPy: 1.1.0\n"
     ]
    }
   ],
   "source": [
    "print(\"Python:\", sys.version[:5])\n",
    "print(\"Pandas:\", pd.__version__)\n",
    "print(\"Numpy:\", np.__version__)\n",
    "print(\"Matplotlib:\", matplotlib.__version__)\n",
    "print(\"Scikit-learn:\", sklearn.__version__)\n",
    "print(\"Seaborn:\", scipy.__version__)\n",
    "print(\"GeoPandas:\", gpd.__version__)\n",
    "print(\"SciPy:\", scipy.__version__)"
   ]
  },
  {
   "cell_type": "code",
   "execution_count": 3,
   "metadata": {},
   "outputs": [],
   "source": [
    "pd.options.mode.chained_assignment = None\n",
    "pd.set_option('display.max_columns', None)\n",
    "prices_folder = Path(\"data/\")\n",
    "cols_2excl = ['CLASS', 'STNO', 'STnu', 'FLATPOSN', 'YEAR OF SALE (BUSINESS)', 'RPI', 'DEFLATOR', 'OMIT OR USE']\n",
    "new_cols = ['street', 'postcode', 'sale_month', 'sale_year', 'sale_date', 'sale_quarter', 'nominal_price',\n",
    "            'july_2013_price', 'buyer_origin', 'build', 'local_housing_forum']\n",
    "\n",
    "fp = \"/home/david/Desktop/Personal/University/CS982/Assignment/alternative_data/2011_Census_Glasgow_City_(shp)/DZ_2011_EoR_Glasgow_City.shp\"\n",
    "map_df = gpd.read_file(fp)"
   ]
  },
  {
   "cell_type": "code",
   "execution_count": 4,
   "metadata": {},
   "outputs": [
    {
     "data": {
      "text/html": [
       "<div>\n",
       "<style scoped>\n",
       "    .dataframe tbody tr th:only-of-type {\n",
       "        vertical-align: middle;\n",
       "    }\n",
       "\n",
       "    .dataframe tbody tr th {\n",
       "        vertical-align: top;\n",
       "    }\n",
       "\n",
       "    .dataframe thead th {\n",
       "        text-align: right;\n",
       "    }\n",
       "</style>\n",
       "<table border=\"1\" class=\"dataframe\">\n",
       "  <thead>\n",
       "    <tr style=\"text-align: right;\">\n",
       "      <th></th>\n",
       "      <th>GSS_CODEDZ</th>\n",
       "      <th>DZ_Name</th>\n",
       "      <th>GSS_CODECA</th>\n",
       "      <th>CA_Name</th>\n",
       "      <th>GSS_CODEIZ</th>\n",
       "      <th>geometry</th>\n",
       "    </tr>\n",
       "  </thead>\n",
       "  <tbody>\n",
       "    <tr>\n",
       "      <th>0</th>\n",
       "      <td>S01003025</td>\n",
       "      <td>None</td>\n",
       "      <td>S12000046</td>\n",
       "      <td>Glasgow_City</td>\n",
       "      <td>S02000584</td>\n",
       "      <td>POLYGON ((259868.7037000004 656693.6532000005,...</td>\n",
       "    </tr>\n",
       "    <tr>\n",
       "      <th>1</th>\n",
       "      <td>S01003026</td>\n",
       "      <td>None</td>\n",
       "      <td>S12000046</td>\n",
       "      <td>Glasgow_City</td>\n",
       "      <td>S02000584</td>\n",
       "      <td>POLYGON ((258523 659616, 258532 659448, 258583...</td>\n",
       "    </tr>\n",
       "    <tr>\n",
       "      <th>2</th>\n",
       "      <td>S01003027</td>\n",
       "      <td>None</td>\n",
       "      <td>S12000046</td>\n",
       "      <td>Glasgow_City</td>\n",
       "      <td>S02000587</td>\n",
       "      <td>POLYGON ((254367.8425000003 658647.1636999995,...</td>\n",
       "    </tr>\n",
       "    <tr>\n",
       "      <th>3</th>\n",
       "      <td>S01003028</td>\n",
       "      <td>None</td>\n",
       "      <td>S12000046</td>\n",
       "      <td>Glasgow_City</td>\n",
       "      <td>S02000585</td>\n",
       "      <td>POLYGON ((260169 658643, 260179 658592, 260209...</td>\n",
       "    </tr>\n",
       "    <tr>\n",
       "      <th>4</th>\n",
       "      <td>S01003029</td>\n",
       "      <td>None</td>\n",
       "      <td>S12000046</td>\n",
       "      <td>Glasgow_City</td>\n",
       "      <td>S02000584</td>\n",
       "      <td>POLYGON ((259204 658200, 259174 658180, 259164...</td>\n",
       "    </tr>\n",
       "  </tbody>\n",
       "</table>\n",
       "</div>"
      ],
      "text/plain": [
       "  GSS_CODEDZ DZ_Name GSS_CODECA       CA_Name GSS_CODEIZ  \\\n",
       "0  S01003025    None  S12000046  Glasgow_City  S02000584   \n",
       "1  S01003026    None  S12000046  Glasgow_City  S02000584   \n",
       "2  S01003027    None  S12000046  Glasgow_City  S02000587   \n",
       "3  S01003028    None  S12000046  Glasgow_City  S02000585   \n",
       "4  S01003029    None  S12000046  Glasgow_City  S02000584   \n",
       "\n",
       "                                            geometry  \n",
       "0  POLYGON ((259868.7037000004 656693.6532000005,...  \n",
       "1  POLYGON ((258523 659616, 258532 659448, 258583...  \n",
       "2  POLYGON ((254367.8425000003 658647.1636999995,...  \n",
       "3  POLYGON ((260169 658643, 260179 658592, 260209...  \n",
       "4  POLYGON ((259204 658200, 259174 658180, 259164...  "
      ]
     },
     "execution_count": 4,
     "metadata": {},
     "output_type": "execute_result"
    }
   ],
   "source": [
    "map_df.head()"
   ]
  },
  {
   "cell_type": "code",
   "execution_count": 5,
   "metadata": {},
   "outputs": [
    {
     "data": {
      "text/plain": [
       "<matplotlib.axes._subplots.AxesSubplot at 0x7fd1ff9c3438>"
      ]
     },
     "execution_count": 5,
     "metadata": {},
     "output_type": "execute_result"
    },
    {
     "data": {
      "image/png": "[encoded data removed]",
      "text/plain": [
       "<Figure size 432x288 with 1 Axes>"
      ]
     },
     "metadata": {
      "needs_background": "light"
     },
     "output_type": "display_data"
    }
   ],
   "source": [
    "map_df.plot()"
   ]
  },
  {
   "cell_type": "code",
   "execution_count": 6,
   "metadata": {},
   "outputs": [],
   "source": [
    "def concatenate(folder):\n",
    "    file_list = folder.glob(\"*.csv\")  # Find .csv files\n",
    "    df_list = []\n",
    "    for file_name in file_list:\n",
    "        single_df = pd.read_csv(file_name, low_memory=False)\n",
    "        clean_df = single_df[:-1]  # Remove last row of each CSV file as it's not relevant\n",
    "        df_list.append(clean_df)\n",
    "    df = pd.concat(df_list, axis=0, sort=False)  # Concatenate CSV files\n",
    "    df.drop(columns=cols_2excl, inplace=True)  # Drop useless columns\n",
    "    df.columns = new_cols  # Rename columns with code-friendly terms\n",
    "    # Regular Expression to convert date formats from YYYY-MM-DD to YYYY-MM as DD was always 01 anyway\n",
    "    df.sale_date = df.sale_date.str.replace(r'-\\d{2}$', r'', regex=True)\n",
    "    # Regular Expression to convert date formats from DD/MM/YYYY to YYYY-MM\n",
    "    df.sale_date = df.sale_date.str.replace(r'\\d{2}\\/(\\d{2})\\/(\\d{4})$', r'\\2-\\1', regex=True)\n",
    "    # print(df.iloc[96165]['july_2013_price']) # 2000\n",
    "    return df"
   ]
  },
  {
   "cell_type": "code",
   "execution_count": 7,
   "metadata": {},
   "outputs": [],
   "source": [
    "def from_xls():\n",
    "    xls = pd.ExcelFile('data/datazones.xls')\n",
    "    dz_df = pd.read_excel(xls, 'Sheet1')\n",
    "    dz_df = dz_df[['Postcode', 'DataZone']]\n",
    "    dz_df.columns = ['postcode', 'datazone']\n",
    "    return dz_df"
   ]
  },
  {
   "cell_type": "code",
   "execution_count": 8,
   "metadata": {},
   "outputs": [],
   "source": [
    "def merge_df(simd_df, left_df, column, year, first):\n",
    "    new_col = ''.join(column + '_' + str(year))\n",
    "    right_df = simd_df[['Datazone', new_col]]\n",
    "    right_df.columns = ['datazone', column]\n",
    "    right_df['sale_year'] = year\n",
    "    merged_df = pd.merge(left_df, right_df, how='left', on=['datazone', 'sale_year'])\n",
    "    dupl_col_x = ''.join(column + '_x')\n",
    "    dupl_col_y = ''.join(column + '_y')\n",
    "    if not first:\n",
    "        merged_df[column] = merged_df[dupl_col_x].fillna(merged_df[dupl_col_y])\n",
    "        merged_df.drop(columns=[dupl_col_x, dupl_col_y], inplace=True)\n",
    "    return merged_df"
   ]
  },
  {
   "cell_type": "code",
   "execution_count": 9,
   "metadata": {},
   "outputs": [],
   "source": [
    "def create_pdf_fig(filename):\n",
    "    pwd = os.path.abspath(os.path.dirname(sys.argv[0]))\n",
    "    graph_path = os.path.join(pwd, '{}.pdf'.format(filename))\n",
    "    pdf = PdfPages(graph_path)\n",
    "    plt.savefig(pdf, format='pdf', bbox_inches='tight')\n",
    "    plt.show()\n",
    "    pdf.close()\n",
    "    pdf = None"
   ]
  },
  {
   "cell_type": "code",
   "execution_count": 10,
   "metadata": {},
   "outputs": [],
   "source": [
    "dataframe = concatenate(prices_folder)\n",
    "datazone_df = from_xls()\n",
    "\n",
    "merged = pd.merge(dataframe, datazone_df, on='postcode')"
   ]
  },
  {
   "cell_type": "code",
   "execution_count": 11,
   "metadata": {},
   "outputs": [],
   "source": [
    "overall_simd_df = pd.read_csv('data/simd/simd-overall-2004-2012-glasgow-v2.csv')\n",
    "employ_simd_df = pd.read_csv('data/simd/simd-employment-2004-2012-glasgow-v2.csv')\n",
    "income_simd_df = pd.read_csv('data/simd/simd-income-2004-2012-glasgow-v2.csv')\n",
    "health_simd_df = pd.read_csv('data/simd/simd-health-2004-2012-glasgow-v2.csv')\n",
    "edu_simd_df = pd.read_csv('data/simd/simd-education-2004-2012-glasgow-v2.csv')\n",
    "geo_simd_df = pd.read_csv('data/simd/simd-geographic-access-2004-2012-glasgow-v2.csv')\n",
    "housing_simd_df = pd.read_csv('data/simd/simd-housing-2004-2012-glasgow-v2.csv')\n",
    "crime_simd_df = pd.read_csv('data/simd/simd-crime-2006-2012-glasgow-v2.csv')\n",
    "\n",
    "overall_col = 'overall_deprivation_rank'\n",
    "overall_04 = merge_df(overall_simd_df, merged, overall_col, 2004, True)\n",
    "overall_06 = merge_df(overall_simd_df, overall_04, overall_col, 2006, False)\n",
    "overall_09 = merge_df(overall_simd_df, overall_06, overall_col, 2009, False)\n",
    "overall_12 = merge_df(overall_simd_df, overall_09, overall_col, 2012, False)\n",
    "\n",
    "empl_col = 'employment_deprivation_rank'\n",
    "empl_04 = merge_df(employ_simd_df, overall_12, empl_col, 2004, True)\n",
    "empl_06 = merge_df(employ_simd_df, empl_04, empl_col, 2006, False)\n",
    "empl_09 = merge_df(employ_simd_df, empl_06, empl_col, 2009, False)\n",
    "empl_12 = merge_df(employ_simd_df, empl_09, empl_col, 2012, False)\n",
    "\n",
    "income_col = 'income_deprivation_rank'\n",
    "income_04 = merge_df(income_simd_df, empl_12, income_col, 2004, True)\n",
    "income_06 = merge_df(income_simd_df, income_04, income_col, 2006, False)\n",
    "income_09 = merge_df(income_simd_df, income_06, income_col, 2009, False)\n",
    "income_12 = merge_df(income_simd_df, income_09, income_col, 2012, False)\n",
    "\n",
    "health_col = 'health_deprivation_rank'\n",
    "health_04 = merge_df(health_simd_df, income_12, health_col, 2004, True)\n",
    "health_06 = merge_df(health_simd_df, health_04, health_col, 2006, False)\n",
    "health_09 = merge_df(health_simd_df, health_06, health_col, 2009, False)\n",
    "health_12 = merge_df(health_simd_df, health_09, health_col, 2012, False)\n",
    "\n",
    "edu_col = 'education_deprivation_rank'\n",
    "edu_04 = merge_df(edu_simd_df, health_12, edu_col, 2004, True)\n",
    "edu_06 = merge_df(edu_simd_df, edu_04, edu_col, 2006, False)\n",
    "edu_09 = merge_df(edu_simd_df, edu_06, edu_col, 2009, False)\n",
    "edu_12 = merge_df(edu_simd_df, edu_09, edu_col, 2012, False)\n",
    "\n",
    "geo_col = 'geographic_access_deprivation_rank'\n",
    "geo_04 = merge_df(geo_simd_df, edu_12, geo_col, 2004, True)\n",
    "geo_06 = merge_df(geo_simd_df, geo_04, geo_col, 2006, False)\n",
    "geo_09 = merge_df(geo_simd_df, geo_06, geo_col, 2009, False)\n",
    "geo_12 = merge_df(geo_simd_df, geo_09, geo_col, 2012, False)\n",
    "\n",
    "housing_col = 'housing_deprivation_rank'\n",
    "housing_04 = merge_df(housing_simd_df, geo_12, housing_col, 2004, True)\n",
    "housing_06 = merge_df(housing_simd_df, housing_04, housing_col, 2006, False)\n",
    "housing_09 = merge_df(housing_simd_df, housing_06, housing_col, 2009, False)\n",
    "housing_12 = merge_df(housing_simd_df, housing_09, housing_col, 2012, False)\n",
    "\n",
    "crime_col = 'crime_deprivation_rank'\n",
    "crime_06 = merge_df(crime_simd_df, housing_12, crime_col, 2006, True)\n",
    "crime_09 = merge_df(crime_simd_df, crime_06, crime_col, 2009, False)\n",
    "crime_12 = merge_df(crime_simd_df, crime_09, crime_col, 2012, False)\n",
    "\n",
    "df = crime_12"
   ]
  },
  {
   "cell_type": "code",
   "execution_count": 12,
   "metadata": {},
   "outputs": [],
   "source": [
    "df = df.sort_values(by=['sale_date', 'july_2013_price'], ascending=False)\n",
    "df = df[['street', 'postcode', 'datazone', 'local_housing_forum', overall_col, empl_col, income_col,\n",
    "                     health_col, edu_col, geo_col, housing_col, crime_col, 'sale_date', 'sale_quarter',\n",
    "                     'sale_year', 'sale_month', 'nominal_price', 'july_2013_price', 'build', 'buyer_origin']]"
   ]
  },
  {
   "cell_type": "code",
   "execution_count": 13,
   "metadata": {},
   "outputs": [],
   "source": [
    "df.local_housing_forum = df.local_housing_forum.str.replace(' ', '_')\n",
    "df = pd.get_dummies(df, columns=['build'], drop_first=True)\n",
    "df = pd.get_dummies(df, columns=['local_housing_forum'])\n",
    "\n",
    "df = df[pd.notnull(df['crime_deprivation_rank'])]               # Drop NaN rows, keeps 2006, 2009, 2012 only\n",
    "df.drop(columns='nominal_price', inplace=True)"
   ]
  },
  {
   "cell_type": "code",
   "execution_count": 14,
   "metadata": {},
   "outputs": [],
   "source": [
    "df = df.rename(index=str, columns={\"build_RESALE\": \"resale\",\n",
    "                                      \"local_housing_forum_Baillieston_Shettleston\": \"Baillieston_Shettleston\",\n",
    "                                      \"local_housing_forum_Drumchapel_Anniesland_and_Garscadden_Scotstounhill\": \"Drumchapel_Anniesland_Garscadden_Scotstounhill\",\n",
    "                                      \"local_housing_forum_East_Centre_and_Calton\": \"East_Centre_Calton\",\n",
    "                                      \"local_housing_forum_Central_and_West\": \"Central_West\",\n",
    "                                      \"local_housing_forum_Govan_and_Craigton\": \"Govan_Craigton\",\n",
    "                                      \"local_housing_forum_Greater_Pollok_and_Newlands_Auldburn\": \"Greater_Pollok_Newlands_Auldburn\",\n",
    "                                      \"local_housing_forum_Langside_and_Linn\": \"Langside_Linn\",\n",
    "                                      \"local_housing_forum_Maryhill_Kelvin_and_Canal\": \"Maryhill_Kelvin_Canal\",\n",
    "                                      \"local_housing_forum_Pollokshields_and_Southside_Central\": \"Pollokshields_Southside_Central\",\n",
    "                                      \"local_housing_forum_Springburn\": \"Springburn\",\n",
    "                                      \"sale_month\": \"month\", \"sale_year\": \"year\", \"sale_quarter\":\"quarter\", \"sale_date\":\"date\",\n",
    "                                      \"crime_deprivation_rank\":\"crime\", \"housing_deprivation_rank\":\"housing\",\n",
    "                                      \"geographic_access_deprivation_rank\":\"geographic_access\", \"education_deprivation_rank\":\"education\",\n",
    "                                      \"health_deprivation_rank\":\"health\", \"income_deprivation_rank\":\"income\",\n",
    "                                      \"employment_deprivation_rank\":\"employment\", \"overall_deprivation_rank\":\"overall\",\n",
    "                                      \"july_2013_price\":\"price\"})"
   ]
  },
  {
   "cell_type": "code",
   "execution_count": 15,
   "metadata": {},
   "outputs": [
    {
     "data": {
      "text/html": [
       "<div>\n",
       "<style scoped>\n",
       "    .dataframe tbody tr th:only-of-type {\n",
       "        vertical-align: middle;\n",
       "    }\n",
       "\n",
       "    .dataframe tbody tr th {\n",
       "        vertical-align: top;\n",
       "    }\n",
       "\n",
       "    .dataframe thead th {\n",
       "        text-align: right;\n",
       "    }\n",
       "</style>\n",
       "<table border=\"1\" class=\"dataframe\">\n",
       "  <thead>\n",
       "    <tr style=\"text-align: right;\">\n",
       "      <th></th>\n",
       "      <th>datazone</th>\n",
       "      <th>price</th>\n",
       "      <th>overall</th>\n",
       "      <th>employment</th>\n",
       "      <th>income</th>\n",
       "      <th>health</th>\n",
       "      <th>education</th>\n",
       "      <th>geographic_access</th>\n",
       "      <th>housing</th>\n",
       "      <th>crime</th>\n",
       "      <th>year</th>\n",
       "      <th>month</th>\n",
       "      <th>resale</th>\n",
       "    </tr>\n",
       "  </thead>\n",
       "  <tbody>\n",
       "    <tr>\n",
       "      <th>82784</th>\n",
       "      <td>S01003453</td>\n",
       "      <td>925751.62</td>\n",
       "      <td>4924.0</td>\n",
       "      <td>4904.0</td>\n",
       "      <td>4597.0</td>\n",
       "      <td>5883.0</td>\n",
       "      <td>2905.0</td>\n",
       "      <td>5991.0</td>\n",
       "      <td>519.0</td>\n",
       "      <td>2642.0</td>\n",
       "      <td>2012</td>\n",
       "      <td>12.0</td>\n",
       "      <td>1</td>\n",
       "    </tr>\n",
       "    <tr>\n",
       "      <th>61074</th>\n",
       "      <td>S01003597</td>\n",
       "      <td>740601.30</td>\n",
       "      <td>5841.0</td>\n",
       "      <td>5409.0</td>\n",
       "      <td>5990.0</td>\n",
       "      <td>4259.0</td>\n",
       "      <td>5792.0</td>\n",
       "      <td>3694.0</td>\n",
       "      <td>4794.0</td>\n",
       "      <td>3535.0</td>\n",
       "      <td>2012</td>\n",
       "      <td>12.0</td>\n",
       "      <td>1</td>\n",
       "    </tr>\n",
       "    <tr>\n",
       "      <th>76796</th>\n",
       "      <td>S01003545</td>\n",
       "      <td>682931.52</td>\n",
       "      <td>6356.0</td>\n",
       "      <td>5687.0</td>\n",
       "      <td>5949.0</td>\n",
       "      <td>6467.0</td>\n",
       "      <td>6000.0</td>\n",
       "      <td>5921.0</td>\n",
       "      <td>1442.0</td>\n",
       "      <td>4281.0</td>\n",
       "      <td>2012</td>\n",
       "      <td>12.0</td>\n",
       "      <td>1</td>\n",
       "    </tr>\n",
       "    <tr>\n",
       "      <th>46540</th>\n",
       "      <td>S01003257</td>\n",
       "      <td>627285.25</td>\n",
       "      <td>3387.0</td>\n",
       "      <td>4364.0</td>\n",
       "      <td>2582.0</td>\n",
       "      <td>4200.0</td>\n",
       "      <td>2915.0</td>\n",
       "      <td>1962.0</td>\n",
       "      <td>1019.0</td>\n",
       "      <td>3990.0</td>\n",
       "      <td>2012</td>\n",
       "      <td>12.0</td>\n",
       "      <td>1</td>\n",
       "    </tr>\n",
       "    <tr>\n",
       "      <th>23603</th>\n",
       "      <td>S01003025</td>\n",
       "      <td>624502.94</td>\n",
       "      <td>4963.0</td>\n",
       "      <td>4834.0</td>\n",
       "      <td>4776.0</td>\n",
       "      <td>5194.0</td>\n",
       "      <td>5828.0</td>\n",
       "      <td>1176.0</td>\n",
       "      <td>4157.0</td>\n",
       "      <td>4491.0</td>\n",
       "      <td>2012</td>\n",
       "      <td>12.0</td>\n",
       "      <td>1</td>\n",
       "    </tr>\n",
       "  </tbody>\n",
       "</table>\n",
       "</div>"
      ],
      "text/plain": [
       "        datazone      price  overall  employment  income  health  education  \\\n",
       "82784  S01003453  925751.62   4924.0      4904.0  4597.0  5883.0     2905.0   \n",
       "61074  S01003597  740601.30   5841.0      5409.0  5990.0  4259.0     5792.0   \n",
       "76796  S01003545  682931.52   6356.0      5687.0  5949.0  6467.0     6000.0   \n",
       "46540  S01003257  627285.25   3387.0      4364.0  2582.0  4200.0     2915.0   \n",
       "23603  S01003025  624502.94   4963.0      4834.0  4776.0  5194.0     5828.0   \n",
       "\n",
       "       geographic_access  housing   crime  year  month  resale  \n",
       "82784             5991.0    519.0  2642.0  2012   12.0       1  \n",
       "61074             3694.0   4794.0  3535.0  2012   12.0       1  \n",
       "76796             5921.0   1442.0  4281.0  2012   12.0       1  \n",
       "46540             1962.0   1019.0  3990.0  2012   12.0       1  \n",
       "23603             1176.0   4157.0  4491.0  2012   12.0       1  "
      ]
     },
     "execution_count": 15,
     "metadata": {},
     "output_type": "execute_result"
    }
   ],
   "source": [
    "df_for_map = df[['datazone','price','overall','employment','income','health','education','geographic_access','housing','crime','year','month','resale']]\n",
    "df_for_map.head()"
   ]
  },
  {
   "cell_type": "code",
   "execution_count": 16,
   "metadata": {},
   "outputs": [
    {
     "data": {
      "text/html": [
       "<div>\n",
       "<style scoped>\n",
       "    .dataframe tbody tr th:only-of-type {\n",
       "        vertical-align: middle;\n",
       "    }\n",
       "\n",
       "    .dataframe tbody tr th {\n",
       "        vertical-align: top;\n",
       "    }\n",
       "\n",
       "    .dataframe thead th {\n",
       "        text-align: right;\n",
       "    }\n",
       "</style>\n",
       "<table border=\"1\" class=\"dataframe\">\n",
       "  <thead>\n",
       "    <tr style=\"text-align: right;\">\n",
       "      <th></th>\n",
       "      <th>DZ_Name</th>\n",
       "      <th>GSS_CODECA</th>\n",
       "      <th>CA_Name</th>\n",
       "      <th>GSS_CODEIZ</th>\n",
       "      <th>geometry</th>\n",
       "      <th>price</th>\n",
       "      <th>overall</th>\n",
       "      <th>employment</th>\n",
       "      <th>income</th>\n",
       "      <th>health</th>\n",
       "      <th>education</th>\n",
       "      <th>geographic_access</th>\n",
       "      <th>housing</th>\n",
       "      <th>crime</th>\n",
       "      <th>year</th>\n",
       "      <th>month</th>\n",
       "      <th>resale</th>\n",
       "    </tr>\n",
       "  </thead>\n",
       "  <tbody>\n",
       "    <tr>\n",
       "      <th>S01003025</th>\n",
       "      <td>None</td>\n",
       "      <td>S12000046</td>\n",
       "      <td>Glasgow_City</td>\n",
       "      <td>S02000584</td>\n",
       "      <td>POLYGON ((259868.7037000004 656693.6532000005,...</td>\n",
       "      <td>624502.94</td>\n",
       "      <td>4963.0</td>\n",
       "      <td>4834.0</td>\n",
       "      <td>4776.0</td>\n",
       "      <td>5194.0</td>\n",
       "      <td>5828.0</td>\n",
       "      <td>1176.0</td>\n",
       "      <td>4157.0</td>\n",
       "      <td>4491.0</td>\n",
       "      <td>2012.0</td>\n",
       "      <td>12.0</td>\n",
       "      <td>1.0</td>\n",
       "    </tr>\n",
       "    <tr>\n",
       "      <th>S01003025</th>\n",
       "      <td>None</td>\n",
       "      <td>S12000046</td>\n",
       "      <td>Glasgow_City</td>\n",
       "      <td>S02000584</td>\n",
       "      <td>POLYGON ((259868.7037000004 656693.6532000005,...</td>\n",
       "      <td>152504.07</td>\n",
       "      <td>4963.0</td>\n",
       "      <td>4834.0</td>\n",
       "      <td>4776.0</td>\n",
       "      <td>5194.0</td>\n",
       "      <td>5828.0</td>\n",
       "      <td>1176.0</td>\n",
       "      <td>4157.0</td>\n",
       "      <td>4491.0</td>\n",
       "      <td>2012.0</td>\n",
       "      <td>11.0</td>\n",
       "      <td>1.0</td>\n",
       "    </tr>\n",
       "    <tr>\n",
       "      <th>S01003025</th>\n",
       "      <td>None</td>\n",
       "      <td>S12000046</td>\n",
       "      <td>Glasgow_City</td>\n",
       "      <td>S02000584</td>\n",
       "      <td>POLYGON ((259868.7037000004 656693.6532000005,...</td>\n",
       "      <td>254173.45</td>\n",
       "      <td>4963.0</td>\n",
       "      <td>4834.0</td>\n",
       "      <td>4776.0</td>\n",
       "      <td>5194.0</td>\n",
       "      <td>5828.0</td>\n",
       "      <td>1176.0</td>\n",
       "      <td>4157.0</td>\n",
       "      <td>4491.0</td>\n",
       "      <td>2012.0</td>\n",
       "      <td>10.0</td>\n",
       "      <td>1.0</td>\n",
       "    </tr>\n",
       "    <tr>\n",
       "      <th>S01003025</th>\n",
       "      <td>None</td>\n",
       "      <td>S12000046</td>\n",
       "      <td>Glasgow_City</td>\n",
       "      <td>S02000584</td>\n",
       "      <td>POLYGON ((259868.7037000004 656693.6532000005,...</td>\n",
       "      <td>454375.52</td>\n",
       "      <td>4963.0</td>\n",
       "      <td>4834.0</td>\n",
       "      <td>4776.0</td>\n",
       "      <td>5194.0</td>\n",
       "      <td>5828.0</td>\n",
       "      <td>1176.0</td>\n",
       "      <td>4157.0</td>\n",
       "      <td>4491.0</td>\n",
       "      <td>2012.0</td>\n",
       "      <td>6.0</td>\n",
       "      <td>1.0</td>\n",
       "    </tr>\n",
       "    <tr>\n",
       "      <th>S01003025</th>\n",
       "      <td>None</td>\n",
       "      <td>S12000046</td>\n",
       "      <td>Glasgow_City</td>\n",
       "      <td>S02000584</td>\n",
       "      <td>POLYGON ((259868.7037000004 656693.6532000005,...</td>\n",
       "      <td>489103.09</td>\n",
       "      <td>4963.0</td>\n",
       "      <td>4834.0</td>\n",
       "      <td>4776.0</td>\n",
       "      <td>5194.0</td>\n",
       "      <td>5828.0</td>\n",
       "      <td>1176.0</td>\n",
       "      <td>4157.0</td>\n",
       "      <td>4491.0</td>\n",
       "      <td>2012.0</td>\n",
       "      <td>4.0</td>\n",
       "      <td>1.0</td>\n",
       "    </tr>\n",
       "  </tbody>\n",
       "</table>\n",
       "</div>"
      ],
      "text/plain": [
       "          DZ_Name GSS_CODECA       CA_Name GSS_CODEIZ  \\\n",
       "S01003025    None  S12000046  Glasgow_City  S02000584   \n",
       "S01003025    None  S12000046  Glasgow_City  S02000584   \n",
       "S01003025    None  S12000046  Glasgow_City  S02000584   \n",
       "S01003025    None  S12000046  Glasgow_City  S02000584   \n",
       "S01003025    None  S12000046  Glasgow_City  S02000584   \n",
       "\n",
       "                                                    geometry      price  \\\n",
       "S01003025  POLYGON ((259868.7037000004 656693.6532000005,...  624502.94   \n",
       "S01003025  POLYGON ((259868.7037000004 656693.6532000005,...  152504.07   \n",
       "S01003025  POLYGON ((259868.7037000004 656693.6532000005,...  254173.45   \n",
       "S01003025  POLYGON ((259868.7037000004 656693.6532000005,...  454375.52   \n",
       "S01003025  POLYGON ((259868.7037000004 656693.6532000005,...  489103.09   \n",
       "\n",
       "           overall  employment  income  health  education  geographic_access  \\\n",
       "S01003025   4963.0      4834.0  4776.0  5194.0     5828.0             1176.0   \n",
       "S01003025   4963.0      4834.0  4776.0  5194.0     5828.0             1176.0   \n",
       "S01003025   4963.0      4834.0  4776.0  5194.0     5828.0             1176.0   \n",
       "S01003025   4963.0      4834.0  4776.0  5194.0     5828.0             1176.0   \n",
       "S01003025   4963.0      4834.0  4776.0  5194.0     5828.0             1176.0   \n",
       "\n",
       "           housing   crime    year  month  resale  \n",
       "S01003025   4157.0  4491.0  2012.0   12.0     1.0  \n",
       "S01003025   4157.0  4491.0  2012.0   11.0     1.0  \n",
       "S01003025   4157.0  4491.0  2012.0   10.0     1.0  \n",
       "S01003025   4157.0  4491.0  2012.0    6.0     1.0  \n",
       "S01003025   4157.0  4491.0  2012.0    4.0     1.0  "
      ]
     },
     "execution_count": 16,
     "metadata": {},
     "output_type": "execute_result"
    }
   ],
   "source": [
    "merged_map = map_df.set_index('GSS_CODEDZ').join(df_for_map.set_index('datazone'))\n",
    "merged_map.head()"
   ]
  },
  {
   "cell_type": "code",
   "execution_count": 17,
   "metadata": {},
   "outputs": [],
   "source": [
    "# variable = 'price'\n",
    "# vmin, vmax = 0, 1\n",
    "\n",
    "# # create figure and axes for Matplotlib\n",
    "# fig, ax = plt.subplots(1, figsize=(10, 6))\n",
    "\n",
    "# merged_map.plot(column=variable, cmap='YlGn', ax=ax,\n",
    "#             linewidth=0.1, edgecolor='0.5', scheme='equal_interval',\n",
    "#             k=15)\n",
    "\n",
    "# ax.axis('off')\n",
    "# ax.set_title('Glasgow Overall SIMD', \\\n",
    "#               fontdict={'fontsize': '25',\n",
    "#                         'fontweight' : '3'})\n",
    "\n",
    "# # create an annotation for the  data source\n",
    "# ax.annotate('Source: Glasgow Open Data, 2014',\n",
    "#            xy=(0.1, .08), xycoords='figure fraction',\n",
    "#            horizontalalignment='left', verticalalignment='top',\n",
    "#            fontsize=10, color='#555555')\n",
    "\n",
    "# # Create colorbar as a legend\n",
    "# sm = plt.cm.ScalarMappable(cmap='YlGn')\n",
    "# sm._A = []\n",
    "# cbar = fig.colorbar(sm)\n",
    "\n",
    "# # this will save the figure as a high-res png. you can also save as svg\n",
    "# # fig.savefig('testmap.png', dpi=800)"
   ]
  },
  {
   "cell_type": "code",
   "execution_count": 18,
   "metadata": {},
   "outputs": [
    {
     "name": "stdout",
     "output_type": "stream",
     "text": [
      "street                                             object\n",
      "postcode                                           object\n",
      "datazone                                            int64\n",
      "overall                                           float64\n",
      "employment                                        float64\n",
      "income                                            float64\n",
      "health                                            float64\n",
      "education                                         float64\n",
      "geographic_access                                 float64\n",
      "housing                                           float64\n",
      "crime                                             float64\n",
      "date                                               object\n",
      "quarter                                            object\n",
      "year                                                int64\n",
      "month                                             float64\n",
      "price                                             float64\n",
      "buyer_origin                                       object\n",
      "resale                                              uint8\n",
      "Baillieston_Shettleston                             uint8\n",
      "Central_West                                        uint8\n",
      "Drumchapel_Anniesland_Garscadden_Scotstounhill      uint8\n",
      "East_Centre_Calton                                  uint8\n",
      "Govan_Craigton                                      uint8\n",
      "Greater_Pollok_Newlands_Auldburn                    uint8\n",
      "Langside_Linn                                       uint8\n",
      "Maryhill_Kelvin_Canal                               uint8\n",
      "Pollokshields_Southside_Central                     uint8\n",
      "Springburn                                          uint8\n",
      "dtype: object\n"
     ]
    }
   ],
   "source": [
    "df.datazone = df.datazone.str.replace(r'S\\d{5}', r'', regex=True)\n",
    "df.datazone = df.datazone.apply(pd.to_numeric)\n",
    "print(df.dtypes)"
   ]
  },
  {
   "cell_type": "code",
   "execution_count": 19,
   "metadata": {},
   "outputs": [],
   "source": [
    "df.overall = df.overall/6505\n",
    "df.employment = df.employment/6505\n",
    "df.income = df.income/6505\n",
    "df.health = df.health/6505\n",
    "df.education = df.education/6505\n",
    "df.geographic_access = df.geographic_access/6505\n",
    "df.housing = df.housing/6505\n",
    "df.crime = df.crime/6505"
   ]
  },
  {
   "cell_type": "code",
   "execution_count": 20,
   "metadata": {},
   "outputs": [],
   "source": [
    "# print(\"Find most important features relative to target\")\n",
    "# # df = df.pivot(columns='overall', values='price')\n",
    "# corr = df.corr()\n",
    "# fig = plt.figure()\n",
    "# overall1 = sns.heatmap(corr)\n",
    "# fig.savefig('overall1.pdf', bbox_inches=\"tight\")\n",
    "# corr.sort_values([\"overall\"], ascending = False, inplace = True)\n",
    "# print(corr.overall)"
   ]
  },
  {
   "cell_type": "code",
   "execution_count": 21,
   "metadata": {},
   "outputs": [],
   "source": [
    "df = df[['price','datazone','overall','employment','income','health','education','geographic_access','housing','crime',\n",
    "         'month','resale','buyer_origin']]"
   ]
  },
  {
   "cell_type": "code",
   "execution_count": 22,
   "metadata": {},
   "outputs": [],
   "source": [
    "# corr = df.corr()\n",
    "# fig = plt.figure()\n",
    "# overall2 = sns.heatmap(corr)\n",
    "# corr.sort_values([\"overall\"], ascending = False, inplace = True)\n",
    "# fig.savefig('overall2.pdf', bbox_inches=\"tight\")\n",
    "# print(corr.overall)"
   ]
  },
  {
   "cell_type": "code",
   "execution_count": 23,
   "metadata": {},
   "outputs": [
    {
     "name": "stdout",
     "output_type": "stream",
     "text": [
      "(30651, 13)\n"
     ]
    }
   ],
   "source": [
    "print(df.shape)\n",
    "# df = pd.get_dummies(df, columns=['buyer_origin'])\n",
    "# df = pd.get_dummies(df, columns=['datazone'])\n",
    "le = LabelEncoder()\n",
    "df['buyer_origin'] = le.fit_transform(df['buyer_origin'].astype(str))"
   ]
  },
  {
   "cell_type": "code",
   "execution_count": 24,
   "metadata": {},
   "outputs": [
    {
     "data": {
      "text/html": [
       "<div>\n",
       "<style scoped>\n",
       "    .dataframe tbody tr th:only-of-type {\n",
       "        vertical-align: middle;\n",
       "    }\n",
       "\n",
       "    .dataframe tbody tr th {\n",
       "        vertical-align: top;\n",
       "    }\n",
       "\n",
       "    .dataframe thead th {\n",
       "        text-align: right;\n",
       "    }\n",
       "</style>\n",
       "<table border=\"1\" class=\"dataframe\">\n",
       "  <thead>\n",
       "    <tr style=\"text-align: right;\">\n",
       "      <th></th>\n",
       "      <th>price</th>\n",
       "      <th>datazone</th>\n",
       "      <th>overall</th>\n",
       "      <th>employment</th>\n",
       "      <th>income</th>\n",
       "      <th>health</th>\n",
       "      <th>education</th>\n",
       "      <th>geographic_access</th>\n",
       "      <th>housing</th>\n",
       "      <th>crime</th>\n",
       "      <th>month</th>\n",
       "      <th>resale</th>\n",
       "      <th>buyer_origin</th>\n",
       "    </tr>\n",
       "  </thead>\n",
       "  <tbody>\n",
       "    <tr>\n",
       "      <th>82784</th>\n",
       "      <td>925751.62</td>\n",
       "      <td>453</td>\n",
       "      <td>0.756956</td>\n",
       "      <td>0.753882</td>\n",
       "      <td>0.706687</td>\n",
       "      <td>0.904381</td>\n",
       "      <td>0.446580</td>\n",
       "      <td>0.920984</td>\n",
       "      <td>0.079785</td>\n",
       "      <td>0.406149</td>\n",
       "      <td>12.0</td>\n",
       "      <td>1</td>\n",
       "      <td>633</td>\n",
       "    </tr>\n",
       "    <tr>\n",
       "      <th>61074</th>\n",
       "      <td>740601.30</td>\n",
       "      <td>597</td>\n",
       "      <td>0.897925</td>\n",
       "      <td>0.831514</td>\n",
       "      <td>0.920830</td>\n",
       "      <td>0.654727</td>\n",
       "      <td>0.890392</td>\n",
       "      <td>0.567871</td>\n",
       "      <td>0.736972</td>\n",
       "      <td>0.543428</td>\n",
       "      <td>12.0</td>\n",
       "      <td>1</td>\n",
       "      <td>633</td>\n",
       "    </tr>\n",
       "    <tr>\n",
       "      <th>76796</th>\n",
       "      <td>682931.52</td>\n",
       "      <td>545</td>\n",
       "      <td>0.977095</td>\n",
       "      <td>0.874251</td>\n",
       "      <td>0.914527</td>\n",
       "      <td>0.994158</td>\n",
       "      <td>0.922367</td>\n",
       "      <td>0.910223</td>\n",
       "      <td>0.221676</td>\n",
       "      <td>0.658109</td>\n",
       "      <td>12.0</td>\n",
       "      <td>1</td>\n",
       "      <td>633</td>\n",
       "    </tr>\n",
       "    <tr>\n",
       "      <th>46540</th>\n",
       "      <td>627285.25</td>\n",
       "      <td>257</td>\n",
       "      <td>0.520676</td>\n",
       "      <td>0.670869</td>\n",
       "      <td>0.396925</td>\n",
       "      <td>0.645657</td>\n",
       "      <td>0.448117</td>\n",
       "      <td>0.301614</td>\n",
       "      <td>0.156649</td>\n",
       "      <td>0.613374</td>\n",
       "      <td>12.0</td>\n",
       "      <td>1</td>\n",
       "      <td>633</td>\n",
       "    </tr>\n",
       "    <tr>\n",
       "      <th>23603</th>\n",
       "      <td>624502.94</td>\n",
       "      <td>25</td>\n",
       "      <td>0.762952</td>\n",
       "      <td>0.743121</td>\n",
       "      <td>0.734204</td>\n",
       "      <td>0.798463</td>\n",
       "      <td>0.895926</td>\n",
       "      <td>0.180784</td>\n",
       "      <td>0.639047</td>\n",
       "      <td>0.690392</td>\n",
       "      <td>12.0</td>\n",
       "      <td>1</td>\n",
       "      <td>368</td>\n",
       "    </tr>\n",
       "  </tbody>\n",
       "</table>\n",
       "</div>"
      ],
      "text/plain": [
       "           price  datazone   overall  employment    income    health  \\\n",
       "82784  925751.62       453  0.756956    0.753882  0.706687  0.904381   \n",
       "61074  740601.30       597  0.897925    0.831514  0.920830  0.654727   \n",
       "76796  682931.52       545  0.977095    0.874251  0.914527  0.994158   \n",
       "46540  627285.25       257  0.520676    0.670869  0.396925  0.645657   \n",
       "23603  624502.94        25  0.762952    0.743121  0.734204  0.798463   \n",
       "\n",
       "       education  geographic_access   housing     crime  month  resale  \\\n",
       "82784   0.446580           0.920984  0.079785  0.406149   12.0       1   \n",
       "61074   0.890392           0.567871  0.736972  0.543428   12.0       1   \n",
       "76796   0.922367           0.910223  0.221676  0.658109   12.0       1   \n",
       "46540   0.448117           0.301614  0.156649  0.613374   12.0       1   \n",
       "23603   0.895926           0.180784  0.639047  0.690392   12.0       1   \n",
       "\n",
       "       buyer_origin  \n",
       "82784           633  \n",
       "61074           633  \n",
       "76796           633  \n",
       "46540           633  \n",
       "23603           368  "
      ]
     },
     "execution_count": 24,
     "metadata": {},
     "output_type": "execute_result"
    }
   ],
   "source": [
    "df.head()"
   ]
  },
  {
   "cell_type": "code",
   "execution_count": 25,
   "metadata": {},
   "outputs": [],
   "source": [
    "target = df.values[:, 0]\n",
    "attributes = df.values[:, 1:]"
   ]
  },
  {
   "cell_type": "code",
   "execution_count": 26,
   "metadata": {
    "scrolled": true
   },
   "outputs": [
    {
     "name": "stdout",
     "output_type": "stream",
     "text": [
      "[[9.25751620e+05 4.53000000e+02 7.56956188e-01 ... 1.20000000e+01\n",
      "  1.00000000e+00 6.33000000e+02]\n",
      " [7.40601300e+05 5.97000000e+02 8.97924673e-01 ... 1.20000000e+01\n",
      "  1.00000000e+00 6.33000000e+02]\n",
      " [6.82931520e+05 5.45000000e+02 9.77094543e-01 ... 1.20000000e+01\n",
      "  1.00000000e+00 6.33000000e+02]\n",
      " ...\n",
      " [2.37240800e+04 5.19000000e+02 3.85857033e-02 ... 1.00000000e+00\n",
      "  1.00000000e+00 6.33000000e+02]\n",
      " [2.32399200e+04 3.51000000e+02 8.73174481e-02 ... 1.00000000e+00\n",
      "  1.00000000e+00 6.33000000e+02]\n",
      " [2.25943600e+04 2.08000000e+02 2.61337433e-03 ... 1.00000000e+00\n",
      "  1.00000000e+00 6.33000000e+02]]\n"
     ]
    }
   ],
   "source": [
    "print(df.values)"
   ]
  },
  {
   "cell_type": "code",
   "execution_count": 27,
   "metadata": {},
   "outputs": [
    {
     "name": "stdout",
     "output_type": "stream",
     "text": [
      "(30651, 13)\n"
     ]
    }
   ],
   "source": [
    "print(df.values.shape)"
   ]
  },
  {
   "cell_type": "code",
   "execution_count": 28,
   "metadata": {},
   "outputs": [],
   "source": [
    "# scaled = scale(attributes)\n",
    "scaler = StandardScaler()\n",
    "scaler.fit(attributes)\n",
    "scaled_attributes = scaler.transform(attributes)"
   ]
  },
  {
   "cell_type": "code",
   "execution_count": 29,
   "metadata": {},
   "outputs": [],
   "source": [
    "scaler.fit(df.values)\n",
    "scaled_full = scaler.transform(df.values)"
   ]
  },
  {
   "cell_type": "code",
   "execution_count": 30,
   "metadata": {
    "scrolled": false
   },
   "outputs": [
    {
     "name": "stdout",
     "output_type": "stream",
     "text": [
      "[[ 0.46693479  1.29978689  1.27095985 ...  1.49623243  0.42112351\n",
      "  -0.21626187]\n",
      " [ 1.2261044   1.79907142  1.55252666 ...  1.49623243  0.42112351\n",
      "  -0.21626187]\n",
      " [ 0.95195982  2.07947657  1.7075278  ...  1.49623243  0.42112351\n",
      "  -0.21626187]\n",
      " ...\n",
      " [ 0.81488753 -1.24454961 -1.32224262 ... -1.76037458  0.42112351\n",
      "  -0.21626187]\n",
      " [-0.07081035 -1.0719507  -0.78865957 ... -1.76037458  0.42112351\n",
      "  -0.21626187]\n",
      " [-0.82470794 -1.371957   -1.44769318 ... -1.76037458  0.42112351\n",
      "  -0.21626187]]\n"
     ]
    }
   ],
   "source": [
    "print(scaled_attributes)"
   ]
  },
  {
   "cell_type": "code",
   "execution_count": 31,
   "metadata": {},
   "outputs": [
    {
     "name": "stdout",
     "output_type": "stream",
     "text": [
      "[[ 7.74375476  0.46693479  1.29978689 ...  1.49623243  0.42112351\n",
      "  -0.21626187]\n",
      " [ 5.87319838  1.2261044   1.79907142 ...  1.49623243  0.42112351\n",
      "  -0.21626187]\n",
      " [ 5.29056598  0.95195982  2.07947657 ...  1.49623243  0.42112351\n",
      "  -0.21626187]\n",
      " ...\n",
      " [-1.36934519  0.81488753 -1.24454961 ... -1.76037458  0.42112351\n",
      "  -0.21626187]\n",
      " [-1.37423661 -0.07081035 -1.0719507  ... -1.76037458  0.42112351\n",
      "  -0.21626187]\n",
      " [-1.38075865 -0.82470794 -1.371957   ... -1.76037458  0.42112351\n",
      "  -0.21626187]]\n"
     ]
    }
   ],
   "source": [
    "print(scaled_full)"
   ]
  },
  {
   "cell_type": "code",
   "execution_count": 86,
   "metadata": {},
   "outputs": [
    {
     "data": {
      "text/plain": [
       "PCA(copy=True, iterated_power='auto', n_components=12, random_state=None,\n",
       "  svd_solver='auto', tol=0.0, whiten=False)"
      ]
     },
     "execution_count": 86,
     "metadata": {},
     "output_type": "execute_result"
    }
   ],
   "source": [
    "pca = PCA(n_components=12)\n",
    "pca.fit(scaled_attributes)"
   ]
  },
  {
   "cell_type": "code",
   "execution_count": 96,
   "metadata": {},
   "outputs": [
    {
     "name": "stdout",
     "output_type": "stream",
     "text": [
      "[0.4537945  0.56355992 0.65038026 0.73476916 0.81712748 0.89400802\n",
      " 0.93639237 0.96998765 0.98839967 0.9954109  0.99964893 1.        ]\n"
     ]
    },
    {
     "data": {
      "image/png": "[encoded data removed]",
      "text/plain": [
       "<Figure size 720x432 with 1 Axes>"
      ]
     },
     "metadata": {
      "needs_background": "light"
     },
     "output_type": "display_data"
    }
   ],
   "source": [
    "var_ratio = pca.explained_variance_ratio_.cumsum()\n",
    "print(var_ratio)\n",
    "fig = plt.figure(figsize=(10,6))\n",
    "plt.title('PCA number of Components against Variance Ratio')\n",
    "plt.xlabel('Number of Components')\n",
    "plt.xticks(np.arange(0, 13, step=1))\n",
    "plt.ylabel('Variance Ratio')\n",
    "plt.plot(var_ratio, '--bo')\n",
    "fig.savefig('pca_components_variance.pdf', bbox_inches=\"tight\")"
   ]
  },
  {
   "cell_type": "code",
   "execution_count": 33,
   "metadata": {},
   "outputs": [],
   "source": [
    "# n_samples, n_features = scaled_attributes.shape\n",
    "# n_digits = len(np.unique(target))\n",
    "# # encoded_target = LabelEncoder().fit_transform(target)\n",
    "# model = cluster.AgglomerativeClustering(n_clusters=n_digits, linkage=\"ward\", affinity=\"euclidean\")\n",
    "# model.fit(scaled_attributes)\n",
    "\n",
    "# # print(encoded_outcome)\n",
    "# print(\"length:\", n_digits)\n",
    "# print(\"n samples:\", n_samples, \"n features:\", n_features)\n",
    "\n",
    "# # print(model.labels_)\n",
    "# print(metrics.silhouette_score(scaled_attributes, model.labels_))\n",
    "# print(metrics.completeness_score(target, model.labels_))\n",
    "# print(metrics.homogeneity_score(target, model.labels_))"
   ]
  },
  {
   "cell_type": "code",
   "execution_count": 34,
   "metadata": {},
   "outputs": [
    {
     "ename": "MemoryError",
     "evalue": "unable to allocate array data.",
     "output_type": "error",
     "traceback": [
      "\u001b[0;31m---------------------------------------------------------------------------\u001b[0m",
      "\u001b[0;31mMemoryError\u001b[0m                               Traceback (most recent call last)",
      "\u001b[0;32m<ipython-input-34-584fa1332da7>\u001b[0m in \u001b[0;36m<module>\u001b[0;34m\u001b[0m\n\u001b[0;32m----> 1\u001b[0;31m \u001b[0mmodel\u001b[0m \u001b[0;34m=\u001b[0m \u001b[0mlinkage\u001b[0m\u001b[0;34m(\u001b[0m\u001b[0mscaled_attributes\u001b[0m\u001b[0;34m,\u001b[0m \u001b[0;34m'complete'\u001b[0m\u001b[0;34m)\u001b[0m\u001b[0;34m\u001b[0m\u001b[0m\n\u001b[0m\u001b[1;32m      2\u001b[0m \u001b[0mfig\u001b[0m \u001b[0;34m=\u001b[0m \u001b[0mplt\u001b[0m\u001b[0;34m.\u001b[0m\u001b[0mfigure\u001b[0m\u001b[0;34m(\u001b[0m\u001b[0mfigsize\u001b[0m\u001b[0;34m=\u001b[0m\u001b[0;34m(\u001b[0m\u001b[0;36m10\u001b[0m\u001b[0;34m,\u001b[0m\u001b[0;36m10\u001b[0m\u001b[0;34m)\u001b[0m\u001b[0;34m)\u001b[0m\u001b[0;34m\u001b[0m\u001b[0m\n\u001b[1;32m      3\u001b[0m \u001b[0mplt\u001b[0m\u001b[0;34m.\u001b[0m\u001b[0mtitle\u001b[0m\u001b[0;34m(\u001b[0m\u001b[0;34m'Hierarchical Clustering Dendrogram (Complete)'\u001b[0m\u001b[0;34m)\u001b[0m\u001b[0;34m\u001b[0m\u001b[0m\n\u001b[1;32m      4\u001b[0m \u001b[0mplt\u001b[0m\u001b[0;34m.\u001b[0m\u001b[0mxlabel\u001b[0m\u001b[0;34m(\u001b[0m\u001b[0;34m'Distance'\u001b[0m\u001b[0;34m)\u001b[0m\u001b[0;34m\u001b[0m\u001b[0m\n\u001b[1;32m      5\u001b[0m \u001b[0mplt\u001b[0m\u001b[0;34m.\u001b[0m\u001b[0mylabel\u001b[0m\u001b[0;34m(\u001b[0m\u001b[0;34m'Sample Index'\u001b[0m\u001b[0;34m)\u001b[0m\u001b[0;34m\u001b[0m\u001b[0m\n",
      "\u001b[0;32m/opt/anaconda3/lib/python3.7/site-packages/scipy/cluster/hierarchy.py\u001b[0m in \u001b[0;36mlinkage\u001b[0;34m(y, method, metric, optimal_ordering)\u001b[0m\n\u001b[1;32m    720\u001b[0m         \u001b[0mresult\u001b[0m \u001b[0;34m=\u001b[0m \u001b[0m_hierarchy\u001b[0m\u001b[0;34m.\u001b[0m\u001b[0mmst_single_linkage\u001b[0m\u001b[0;34m(\u001b[0m\u001b[0my\u001b[0m\u001b[0;34m,\u001b[0m \u001b[0mn\u001b[0m\u001b[0;34m)\u001b[0m\u001b[0;34m\u001b[0m\u001b[0m\n\u001b[1;32m    721\u001b[0m     \u001b[0;32melif\u001b[0m \u001b[0mmethod\u001b[0m \u001b[0;32min\u001b[0m \u001b[0;34m[\u001b[0m\u001b[0;34m'complete'\u001b[0m\u001b[0;34m,\u001b[0m \u001b[0;34m'average'\u001b[0m\u001b[0;34m,\u001b[0m \u001b[0;34m'weighted'\u001b[0m\u001b[0;34m,\u001b[0m \u001b[0;34m'ward'\u001b[0m\u001b[0;34m]\u001b[0m\u001b[0;34m:\u001b[0m\u001b[0;34m\u001b[0m\u001b[0m\n\u001b[0;32m--> 722\u001b[0;31m         \u001b[0mresult\u001b[0m \u001b[0;34m=\u001b[0m \u001b[0m_hierarchy\u001b[0m\u001b[0;34m.\u001b[0m\u001b[0mnn_chain\u001b[0m\u001b[0;34m(\u001b[0m\u001b[0my\u001b[0m\u001b[0;34m,\u001b[0m \u001b[0mn\u001b[0m\u001b[0;34m,\u001b[0m \u001b[0mmethod_code\u001b[0m\u001b[0;34m)\u001b[0m\u001b[0;34m\u001b[0m\u001b[0m\n\u001b[0m\u001b[1;32m    723\u001b[0m     \u001b[0;32melse\u001b[0m\u001b[0;34m:\u001b[0m\u001b[0;34m\u001b[0m\u001b[0m\n\u001b[1;32m    724\u001b[0m         \u001b[0mresult\u001b[0m \u001b[0;34m=\u001b[0m \u001b[0m_hierarchy\u001b[0m\u001b[0;34m.\u001b[0m\u001b[0mfast_linkage\u001b[0m\u001b[0;34m(\u001b[0m\u001b[0my\u001b[0m\u001b[0;34m,\u001b[0m \u001b[0mn\u001b[0m\u001b[0;34m,\u001b[0m \u001b[0mmethod_code\u001b[0m\u001b[0;34m)\u001b[0m\u001b[0;34m\u001b[0m\u001b[0m\n",
      "\u001b[0;32m_hierarchy.pyx\u001b[0m in \u001b[0;36mscipy.cluster._hierarchy.nn_chain\u001b[0;34m()\u001b[0m\n",
      "\u001b[0;32m/opt/anaconda3/lib/python3.7/site-packages/scipy/cluster/_hierarchy.cpython-37m-x86_64-linux-gnu.so\u001b[0m in \u001b[0;36mView.MemoryView.array_cwrapper\u001b[0;34m()\u001b[0m\n",
      "\u001b[0;32m/opt/anaconda3/lib/python3.7/site-packages/scipy/cluster/_hierarchy.cpython-37m-x86_64-linux-gnu.so\u001b[0m in \u001b[0;36mView.MemoryView.array.__cinit__\u001b[0;34m()\u001b[0m\n",
      "\u001b[0;31mMemoryError\u001b[0m: unable to allocate array data."
     ]
    }
   ],
   "source": [
    "model = linkage(scaled_attributes, 'complete')\n",
    "fig = plt.figure(figsize=(10,10))\n",
    "plt.title('Hierarchical Clustering Dendrogram (Complete)')\n",
    "plt.xlabel('Distance')\n",
    "plt.ylabel('Sample Index')\n",
    "dendrogram(\n",
    "        model,\n",
    "        p=20,\n",
    "        truncate_mode='lastp',\n",
    "        orientation='right',\n",
    "    )\n",
    "fig.savefig('dendro_ward_comple.pdf', bbox_inches=\"tight\")"
   ]
  },
  {
   "cell_type": "code",
   "execution_count": null,
   "metadata": {},
   "outputs": [],
   "source": [
    "print(attributes[5589])"
   ]
  },
  {
   "cell_type": "code",
   "execution_count": null,
   "metadata": {
    "scrolled": false
   },
   "outputs": [],
   "source": [
    "df.iloc[[5589]]\n",
    "# print(df.values[6740])\n",
    "# print(vg_sales.as_matrix()[3568])\n",
    "# print(df.values[1876])\n",
    "# print(vg_sales.as_matrix()[3568])"
   ]
  },
  {
   "cell_type": "code",
   "execution_count": null,
   "metadata": {},
   "outputs": [],
   "source": [
    "df.iloc[[2526]]"
   ]
  },
  {
   "cell_type": "code",
   "execution_count": null,
   "metadata": {
    "scrolled": true
   },
   "outputs": [],
   "source": [
    "print(df.info())"
   ]
  },
  {
   "cell_type": "code",
   "execution_count": null,
   "metadata": {},
   "outputs": [],
   "source": [
    "fig = plt.figure(figsize=(50,50))\n",
    "plt.title('this is test')\n",
    "plt.xlabel('x test')\n",
    "plt.ylabel('y test')\n",
    "df.overall.plot(kind='box', subplots=True)\n",
    "fig.savefig('test.pdf', bbox_inches=\"tight\")"
   ]
  },
  {
   "cell_type": "code",
   "execution_count": null,
   "metadata": {},
   "outputs": [],
   "source": [
    "df.price.plot(kind='box')\n",
    "create_pdf_fig('price_box')"
   ]
  }
 ],
 "metadata": {
  "kernelspec": {
   "display_name": "Python 3",
   "language": "python",
   "name": "python3"
  }
 },
 "nbformat": 4,
 "nbformat_minor": 2
}
