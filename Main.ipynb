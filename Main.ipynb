{
 "cells": [
  {
   "cell_type": "code",
   "execution_count": 2,
   "metadata": {},
   "outputs": [],
   "source": [
    "from pathlib import Path\n",
    "import glob\n",
    "import pandas as pd\n",
    "\n",
    "data_folder = Path(\"data/\")\n",
    "cols_2excl = ['CLASS', 'STNO', 'STnu', 'FLATPOSN', 'YEAR OF SALE (BUSINESS)', 'MONTH AND YEAR',\n",
    "              'QUARTER_(CALENDAR)', 'OMIT OR USE']\n",
    "\n",
    "def concatenate(folder):\n",
    "    file_list = folder.glob(\"*.csv\")\n",
    "    df_list = []\n",
    "    for file_name in file_list:\n",
    "        df = pd.read_csv(file_name)\n",
    "        clean_df = df[:-1]\n",
    "        df_list.append(clean_df)\n",
    "    cc_df = pd.concat(df_list, axis=0)\n",
    "    cc_df.drop(columns=cols_2excl, inplace=True)\n",
    "    return cc_df\n",
    "    \n",
    "dataframe = concatenate(data_folder)\n",
    "dataframe.to_csv(path_or_buf='data/dataframe.csv', index=False)"
   ]
  },
  {
   "cell_type": "code",
   "execution_count": null,
   "metadata": {},
   "outputs": [],
   "source": []
  }
 ],
 "metadata": {
  "kernelspec": {
   "display_name": "Python 3",
   "language": "python",
   "name": "python3"
  },
  "language_info": {
   "codemirror_mode": {
    "name": "ipython",
    "version": 3
   },
   "file_extension": ".py",
   "mimetype": "text/x-python",
   "name": "python",
   "nbconvert_exporter": "python",
   "pygments_lexer": "ipython3",
   "version": "3.7.0"
  }
 },
 "nbformat": 4,
 "nbformat_minor": 2
}
