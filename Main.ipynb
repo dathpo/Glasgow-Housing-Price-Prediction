{
 "cells": [
  {
   "cell_type": "code",
   "execution_count": 19,
   "metadata": {},
   "outputs": [
    {
     "name": "stdout",
     "output_type": "stream",
     "text": [
      "data\\house-price-1991.csv\n",
      "data\\house-price-1992.csv\n",
      "data\\house-price-1993.csv\n",
      "data\\house-price-1994.csv\n",
      "data\\house-price-1995.csv\n",
      "data\\house-price-1996.csv\n",
      "data\\house-price-1997.csv\n",
      "data\\house-price-1998.csv\n",
      "data\\house-price-1999.csv\n",
      "data\\house-price-2000.csv\n",
      "data\\house-price-2001.csv\n",
      "data\\house-price-2002.csv\n",
      "data\\house-price-2003.csv\n",
      "data\\house-price-2004.csv\n",
      "data\\house-price-2005.csv\n",
      "data\\house-price-2006.csv\n",
      "data\\house-price-2007.csv\n",
      "data\\house-price-2008.csv\n",
      "data\\house-price-2009.csv\n",
      "data\\house-price-2010.csv\n",
      "data\\house-price-2011.csv\n",
      "data\\house-price-2012.csv\n",
      "data\\house-price-2013.csv\n"
     ]
    }
   ],
   "source": [
    "from pathlib import Path\n",
    "import glob\n",
    "import pandas as pd\n",
    "\n",
    "data_folder = Path(\"data/\")\n",
    "csv_file = data_folder / \"house-price-2010.csv\"\n",
    "file = open(csv_file)\n",
    "cols_2excl = [\"STnu\", \"MONTH AND YEAR\", \"YEAR OF SALE (BUSINESS)\", \"QUARTER_(CALENDAR)\",\n",
    "                 \"CLASS\", \"FLATPOSN\", \"OMIT OR USE\"]\n",
    "\n",
    "def concatenate(folder):\n",
    "    file_list = folder.glob(\"*.csv\")\n",
    "    df_list = []\n",
    "    for file_name in file_list:\n",
    "        print(file_name)\n",
    "        df = pd.read_csv(file_name, header=None, index_col=False)\n",
    "        df_list.append(df)\n",
    "    cc_df = pd.concat(df_list, axis=0)\n",
    "    cc_df.drop([0, 1, 2, 3, 8, 9, 10, 17], axis=0)\n",
    "    cc_df.to_csv(path_or_buf='dataframe.csv', index=False)\n",
    "    \n",
    "concatenate(data_folder)\n"
   ]
  },
  {
   "cell_type": "code",
   "execution_count": null,
   "metadata": {},
   "outputs": [],
   "source": []
  }
 ],
 "metadata": {
  "kernelspec": {
   "display_name": "Python 3",
   "language": "python",
   "name": "python3"
  },
  "language_info": {
   "codemirror_mode": {
    "name": "ipython",
    "version": 3
   },
   "file_extension": ".py",
   "mimetype": "text/x-python",
   "name": "python",
   "nbconvert_exporter": "python",
   "pygments_lexer": "ipython3",
   "version": "3.7.0"
  }
 },
 "nbformat": 4,
 "nbformat_minor": 2
}
